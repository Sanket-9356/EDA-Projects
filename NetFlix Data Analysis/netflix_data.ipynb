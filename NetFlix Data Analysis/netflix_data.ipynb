{
 "cells": [
  {
   "cell_type": "markdown",
   "id": "20dca7d4-0dfc-4953-bfd0-970695024e98",
   "metadata": {},
   "source": [
    "# 🎬 Netflix Data Analysis Project\n",
    "\n",
    "In this project, we perform Exploratory Data Analysis (EDA) on the Netflix Titles dataset to uncover trends, patterns, and insights about the content available on the platform.  \n",
    "We’ll analyze various factors such as:\n",
    "\n",
    "- Total number of titles\n",
    "- Type distribution (Movies vs. TV Shows)\n",
    "- Genre popularity\n",
    "- Content release trends over time\n",
    "- Ratings and average duration\n",
    "- Country-wise content contribution\n",
    "- Top directors and most frequent genres\n",
    "\n",
    "📦 **Dataset Source**: [Netflix Titles Dataset on Kaggle](https://www.kaggle.com/shivamb/netflix-shows)"
   ]
  },
  {
   "cell_type": "code",
   "execution_count": 412,
   "id": "8f4801bc-eeb7-43ca-a05a-e023233ee9f1",
   "metadata": {},
   "outputs": [],
   "source": [
    "import pandas as pd\n",
    "import matplotlib.pyplot as plt\n",
    "import seaborn as sns\n",
    "\n",
    "import warnings\n",
    "warnings.filterwarnings('ignore')\n"
   ]
  },
  {
   "cell_type": "markdown",
   "id": "d71aae4c-e0d2-40f1-83d5-b32849cc9c5b",
   "metadata": {},
   "source": [
    "## 🔍 Dataset Overview\n",
    "\n",
    "We start by importing the dataset and understanding its structure using `.info()` and `.head()`.\n",
    "\n",
    "### Key Columns:\n",
    "- `title`: Name of the show/movie\n",
    "- `type`: Movie or TV Show\n",
    "- `director`, `cast`: Names of directors and actors\n",
    "- `country`: Production country\n",
    "- `date_added`: When the title was added to Netflix\n",
    "- `release_year`: Year of original release\n",
    "- `rating`: Age rating (PG, TV-MA, etc.)\n",
    "- `duration`: Duration in minutes or seasons\n",
    "- `listed_in`: Genre/category\n",
    "\n",
    "We'll perform cleaning and transformation where necessary.\n",
    "\n"
   ]
  },
  {
   "cell_type": "code",
   "execution_count": 414,
   "id": "74958609-5234-41c0-82ef-2ef5a62bdade",
   "metadata": {},
   "outputs": [],
   "source": [
    "df=pd.read_csv(\"netflix_titles.csv\")"
   ]
  },
  {
   "cell_type": "code",
   "execution_count": 415,
   "id": "7ed39b79-6bc3-4f51-a35d-f36d78581d3b",
   "metadata": {},
   "outputs": [
    {
     "data": {
      "text/html": [
       "<div>\n",
       "<style scoped>\n",
       "    .dataframe tbody tr th:only-of-type {\n",
       "        vertical-align: middle;\n",
       "    }\n",
       "\n",
       "    .dataframe tbody tr th {\n",
       "        vertical-align: top;\n",
       "    }\n",
       "\n",
       "    .dataframe thead th {\n",
       "        text-align: right;\n",
       "    }\n",
       "</style>\n",
       "<table border=\"1\" class=\"dataframe\">\n",
       "  <thead>\n",
       "    <tr style=\"text-align: right;\">\n",
       "      <th></th>\n",
       "      <th>show_id</th>\n",
       "      <th>type</th>\n",
       "      <th>title</th>\n",
       "      <th>director</th>\n",
       "      <th>cast</th>\n",
       "      <th>country</th>\n",
       "      <th>date_added</th>\n",
       "      <th>release_year</th>\n",
       "      <th>rating</th>\n",
       "      <th>duration</th>\n",
       "      <th>listed_in</th>\n",
       "      <th>description</th>\n",
       "    </tr>\n",
       "  </thead>\n",
       "  <tbody>\n",
       "    <tr>\n",
       "      <th>0</th>\n",
       "      <td>s1</td>\n",
       "      <td>Movie</td>\n",
       "      <td>Dick Johnson Is Dead</td>\n",
       "      <td>Kirsten Johnson</td>\n",
       "      <td>NaN</td>\n",
       "      <td>United States</td>\n",
       "      <td>September 25, 2021</td>\n",
       "      <td>2020</td>\n",
       "      <td>PG-13</td>\n",
       "      <td>90 min</td>\n",
       "      <td>Documentaries</td>\n",
       "      <td>As her father nears the end of his life, filmm...</td>\n",
       "    </tr>\n",
       "    <tr>\n",
       "      <th>1</th>\n",
       "      <td>s2</td>\n",
       "      <td>TV Show</td>\n",
       "      <td>Blood &amp; Water</td>\n",
       "      <td>NaN</td>\n",
       "      <td>Ama Qamata, Khosi Ngema, Gail Mabalane, Thaban...</td>\n",
       "      <td>South Africa</td>\n",
       "      <td>September 24, 2021</td>\n",
       "      <td>2021</td>\n",
       "      <td>TV-MA</td>\n",
       "      <td>2 Seasons</td>\n",
       "      <td>International TV Shows, TV Dramas, TV Mysteries</td>\n",
       "      <td>After crossing paths at a party, a Cape Town t...</td>\n",
       "    </tr>\n",
       "    <tr>\n",
       "      <th>2</th>\n",
       "      <td>s3</td>\n",
       "      <td>TV Show</td>\n",
       "      <td>Ganglands</td>\n",
       "      <td>Julien Leclercq</td>\n",
       "      <td>Sami Bouajila, Tracy Gotoas, Samuel Jouy, Nabi...</td>\n",
       "      <td>NaN</td>\n",
       "      <td>September 24, 2021</td>\n",
       "      <td>2021</td>\n",
       "      <td>TV-MA</td>\n",
       "      <td>1 Season</td>\n",
       "      <td>Crime TV Shows, International TV Shows, TV Act...</td>\n",
       "      <td>To protect his family from a powerful drug lor...</td>\n",
       "    </tr>\n",
       "    <tr>\n",
       "      <th>3</th>\n",
       "      <td>s4</td>\n",
       "      <td>TV Show</td>\n",
       "      <td>Jailbirds New Orleans</td>\n",
       "      <td>NaN</td>\n",
       "      <td>NaN</td>\n",
       "      <td>NaN</td>\n",
       "      <td>September 24, 2021</td>\n",
       "      <td>2021</td>\n",
       "      <td>TV-MA</td>\n",
       "      <td>1 Season</td>\n",
       "      <td>Docuseries, Reality TV</td>\n",
       "      <td>Feuds, flirtations and toilet talk go down amo...</td>\n",
       "    </tr>\n",
       "    <tr>\n",
       "      <th>4</th>\n",
       "      <td>s5</td>\n",
       "      <td>TV Show</td>\n",
       "      <td>Kota Factory</td>\n",
       "      <td>NaN</td>\n",
       "      <td>Mayur More, Jitendra Kumar, Ranjan Raj, Alam K...</td>\n",
       "      <td>India</td>\n",
       "      <td>September 24, 2021</td>\n",
       "      <td>2021</td>\n",
       "      <td>TV-MA</td>\n",
       "      <td>2 Seasons</td>\n",
       "      <td>International TV Shows, Romantic TV Shows, TV ...</td>\n",
       "      <td>In a city of coaching centers known to train I...</td>\n",
       "    </tr>\n",
       "    <tr>\n",
       "      <th>5</th>\n",
       "      <td>s6</td>\n",
       "      <td>TV Show</td>\n",
       "      <td>Midnight Mass</td>\n",
       "      <td>Mike Flanagan</td>\n",
       "      <td>Kate Siegel, Zach Gilford, Hamish Linklater, H...</td>\n",
       "      <td>NaN</td>\n",
       "      <td>September 24, 2021</td>\n",
       "      <td>2021</td>\n",
       "      <td>TV-MA</td>\n",
       "      <td>1 Season</td>\n",
       "      <td>TV Dramas, TV Horror, TV Mysteries</td>\n",
       "      <td>The arrival of a charismatic young priest brin...</td>\n",
       "    </tr>\n",
       "    <tr>\n",
       "      <th>6</th>\n",
       "      <td>s7</td>\n",
       "      <td>Movie</td>\n",
       "      <td>My Little Pony: A New Generation</td>\n",
       "      <td>Robert Cullen, José Luis Ucha</td>\n",
       "      <td>Vanessa Hudgens, Kimiko Glenn, James Marsden, ...</td>\n",
       "      <td>NaN</td>\n",
       "      <td>September 24, 2021</td>\n",
       "      <td>2021</td>\n",
       "      <td>PG</td>\n",
       "      <td>91 min</td>\n",
       "      <td>Children &amp; Family Movies</td>\n",
       "      <td>Equestria's divided. But a bright-eyed hero be...</td>\n",
       "    </tr>\n",
       "    <tr>\n",
       "      <th>7</th>\n",
       "      <td>s8</td>\n",
       "      <td>Movie</td>\n",
       "      <td>Sankofa</td>\n",
       "      <td>Haile Gerima</td>\n",
       "      <td>Kofi Ghanaba, Oyafunmike Ogunlano, Alexandra D...</td>\n",
       "      <td>United States, Ghana, Burkina Faso, United Kin...</td>\n",
       "      <td>September 24, 2021</td>\n",
       "      <td>1993</td>\n",
       "      <td>TV-MA</td>\n",
       "      <td>125 min</td>\n",
       "      <td>Dramas, Independent Movies, International Movies</td>\n",
       "      <td>On a photo shoot in Ghana, an American model s...</td>\n",
       "    </tr>\n",
       "    <tr>\n",
       "      <th>8</th>\n",
       "      <td>s9</td>\n",
       "      <td>TV Show</td>\n",
       "      <td>The Great British Baking Show</td>\n",
       "      <td>Andy Devonshire</td>\n",
       "      <td>Mel Giedroyc, Sue Perkins, Mary Berry, Paul Ho...</td>\n",
       "      <td>United Kingdom</td>\n",
       "      <td>September 24, 2021</td>\n",
       "      <td>2021</td>\n",
       "      <td>TV-14</td>\n",
       "      <td>9 Seasons</td>\n",
       "      <td>British TV Shows, Reality TV</td>\n",
       "      <td>A talented batch of amateur bakers face off in...</td>\n",
       "    </tr>\n",
       "    <tr>\n",
       "      <th>9</th>\n",
       "      <td>s10</td>\n",
       "      <td>Movie</td>\n",
       "      <td>The Starling</td>\n",
       "      <td>Theodore Melfi</td>\n",
       "      <td>Melissa McCarthy, Chris O'Dowd, Kevin Kline, T...</td>\n",
       "      <td>United States</td>\n",
       "      <td>September 24, 2021</td>\n",
       "      <td>2021</td>\n",
       "      <td>PG-13</td>\n",
       "      <td>104 min</td>\n",
       "      <td>Comedies, Dramas</td>\n",
       "      <td>A woman adjusting to life after a loss contend...</td>\n",
       "    </tr>\n",
       "  </tbody>\n",
       "</table>\n",
       "</div>"
      ],
      "text/plain": [
       "  show_id     type                             title  \\\n",
       "0      s1    Movie              Dick Johnson Is Dead   \n",
       "1      s2  TV Show                     Blood & Water   \n",
       "2      s3  TV Show                         Ganglands   \n",
       "3      s4  TV Show             Jailbirds New Orleans   \n",
       "4      s5  TV Show                      Kota Factory   \n",
       "5      s6  TV Show                     Midnight Mass   \n",
       "6      s7    Movie  My Little Pony: A New Generation   \n",
       "7      s8    Movie                           Sankofa   \n",
       "8      s9  TV Show     The Great British Baking Show   \n",
       "9     s10    Movie                      The Starling   \n",
       "\n",
       "                        director  \\\n",
       "0                Kirsten Johnson   \n",
       "1                            NaN   \n",
       "2                Julien Leclercq   \n",
       "3                            NaN   \n",
       "4                            NaN   \n",
       "5                  Mike Flanagan   \n",
       "6  Robert Cullen, José Luis Ucha   \n",
       "7                   Haile Gerima   \n",
       "8                Andy Devonshire   \n",
       "9                 Theodore Melfi   \n",
       "\n",
       "                                                cast  \\\n",
       "0                                                NaN   \n",
       "1  Ama Qamata, Khosi Ngema, Gail Mabalane, Thaban...   \n",
       "2  Sami Bouajila, Tracy Gotoas, Samuel Jouy, Nabi...   \n",
       "3                                                NaN   \n",
       "4  Mayur More, Jitendra Kumar, Ranjan Raj, Alam K...   \n",
       "5  Kate Siegel, Zach Gilford, Hamish Linklater, H...   \n",
       "6  Vanessa Hudgens, Kimiko Glenn, James Marsden, ...   \n",
       "7  Kofi Ghanaba, Oyafunmike Ogunlano, Alexandra D...   \n",
       "8  Mel Giedroyc, Sue Perkins, Mary Berry, Paul Ho...   \n",
       "9  Melissa McCarthy, Chris O'Dowd, Kevin Kline, T...   \n",
       "\n",
       "                                             country          date_added  \\\n",
       "0                                      United States  September 25, 2021   \n",
       "1                                       South Africa  September 24, 2021   \n",
       "2                                                NaN  September 24, 2021   \n",
       "3                                                NaN  September 24, 2021   \n",
       "4                                              India  September 24, 2021   \n",
       "5                                                NaN  September 24, 2021   \n",
       "6                                                NaN  September 24, 2021   \n",
       "7  United States, Ghana, Burkina Faso, United Kin...  September 24, 2021   \n",
       "8                                     United Kingdom  September 24, 2021   \n",
       "9                                      United States  September 24, 2021   \n",
       "\n",
       "   release_year rating   duration  \\\n",
       "0          2020  PG-13     90 min   \n",
       "1          2021  TV-MA  2 Seasons   \n",
       "2          2021  TV-MA   1 Season   \n",
       "3          2021  TV-MA   1 Season   \n",
       "4          2021  TV-MA  2 Seasons   \n",
       "5          2021  TV-MA   1 Season   \n",
       "6          2021     PG     91 min   \n",
       "7          1993  TV-MA    125 min   \n",
       "8          2021  TV-14  9 Seasons   \n",
       "9          2021  PG-13    104 min   \n",
       "\n",
       "                                           listed_in  \\\n",
       "0                                      Documentaries   \n",
       "1    International TV Shows, TV Dramas, TV Mysteries   \n",
       "2  Crime TV Shows, International TV Shows, TV Act...   \n",
       "3                             Docuseries, Reality TV   \n",
       "4  International TV Shows, Romantic TV Shows, TV ...   \n",
       "5                 TV Dramas, TV Horror, TV Mysteries   \n",
       "6                           Children & Family Movies   \n",
       "7   Dramas, Independent Movies, International Movies   \n",
       "8                       British TV Shows, Reality TV   \n",
       "9                                   Comedies, Dramas   \n",
       "\n",
       "                                         description  \n",
       "0  As her father nears the end of his life, filmm...  \n",
       "1  After crossing paths at a party, a Cape Town t...  \n",
       "2  To protect his family from a powerful drug lor...  \n",
       "3  Feuds, flirtations and toilet talk go down amo...  \n",
       "4  In a city of coaching centers known to train I...  \n",
       "5  The arrival of a charismatic young priest brin...  \n",
       "6  Equestria's divided. But a bright-eyed hero be...  \n",
       "7  On a photo shoot in Ghana, an American model s...  \n",
       "8  A talented batch of amateur bakers face off in...  \n",
       "9  A woman adjusting to life after a loss contend...  "
      ]
     },
     "execution_count": 415,
     "metadata": {},
     "output_type": "execute_result"
    }
   ],
   "source": [
    "df.head(10)"
   ]
  },
  {
   "cell_type": "markdown",
   "id": "4a2b2570-f865-47a5-92be-b29ddef21b23",
   "metadata": {},
   "source": [
    "#### Check Datatype of each Column"
   ]
  },
  {
   "cell_type": "code",
   "execution_count": 416,
   "id": "502509b4-9acd-4fd4-8300-a433436d498b",
   "metadata": {},
   "outputs": [
    {
     "name": "stdout",
     "output_type": "stream",
     "text": [
      "<class 'pandas.core.frame.DataFrame'>\n",
      "RangeIndex: 8807 entries, 0 to 8806\n",
      "Data columns (total 12 columns):\n",
      " #   Column        Non-Null Count  Dtype \n",
      "---  ------        --------------  ----- \n",
      " 0   show_id       8807 non-null   object\n",
      " 1   type          8807 non-null   object\n",
      " 2   title         8807 non-null   object\n",
      " 3   director      6173 non-null   object\n",
      " 4   cast          7982 non-null   object\n",
      " 5   country       7976 non-null   object\n",
      " 6   date_added    8797 non-null   object\n",
      " 7   release_year  8807 non-null   int64 \n",
      " 8   rating        8803 non-null   object\n",
      " 9   duration      8804 non-null   object\n",
      " 10  listed_in     8807 non-null   object\n",
      " 11  description   8807 non-null   object\n",
      "dtypes: int64(1), object(11)\n",
      "memory usage: 825.8+ KB\n"
     ]
    }
   ],
   "source": [
    "df.info()"
   ]
  },
  {
   "cell_type": "markdown",
   "id": "a7ed93a9-fa78-49e5-8269-82cef0221044",
   "metadata": {},
   "source": [
    "#### Check null values in Dataset"
   ]
  },
  {
   "cell_type": "code",
   "execution_count": 417,
   "id": "5c3929e8-76b2-4768-b971-7fa263f0e8a7",
   "metadata": {},
   "outputs": [
    {
     "data": {
      "text/plain": [
       "show_id            0\n",
       "type               0\n",
       "title              0\n",
       "director        2634\n",
       "cast             825\n",
       "country          831\n",
       "date_added        10\n",
       "release_year       0\n",
       "rating             4\n",
       "duration           3\n",
       "listed_in          0\n",
       "description        0\n",
       "dtype: int64"
      ]
     },
     "execution_count": 417,
     "metadata": {},
     "output_type": "execute_result"
    }
   ],
   "source": [
    "df.isnull().sum()"
   ]
  },
  {
   "cell_type": "markdown",
   "id": "8b213ae7-f533-4125-9264-291f9ca24cf6",
   "metadata": {},
   "source": [
    "#### Handle Null values according to column"
   ]
  },
  {
   "cell_type": "code",
   "execution_count": 418,
   "id": "b220ea1c-0543-4d17-a65c-e7d95827c6af",
   "metadata": {},
   "outputs": [],
   "source": [
    "df[\"director\"]=df[\"director\"].fillna(\"Unknown\")\n",
    "df[\"cast\"]=df[\"cast\"].fillna(\"Not Available\")\n",
    "df[\"country\"]=df[\"country\"].fillna(\"Unknown\")\n",
    "df[\"rating\"]=df[\"rating\"].fillna(0)\n",
    "df[\"duration\"]=df[\"duration\"].fillna(\"0 min\")"
   ]
  },
  {
   "cell_type": "markdown",
   "id": "7a2aa1cd-b09f-4400-aeb3-d38b9b7ffc27",
   "metadata": {},
   "source": [
    "#### howmany Rows & Columns thier in Dataset"
   ]
  },
  {
   "cell_type": "code",
   "execution_count": 419,
   "id": "57ed320d-fba9-4f0e-b00a-6f248f65ff67",
   "metadata": {},
   "outputs": [
    {
     "data": {
      "text/plain": [
       "12"
      ]
     },
     "execution_count": 419,
     "metadata": {},
     "output_type": "execute_result"
    }
   ],
   "source": [
    "len(df.columns)"
   ]
  },
  {
   "cell_type": "code",
   "execution_count": 420,
   "id": "0f890e05-0244-4bdd-9dd0-25bab3117545",
   "metadata": {},
   "outputs": [
    {
     "data": {
      "text/plain": [
       "8807"
      ]
     },
     "execution_count": 420,
     "metadata": {},
     "output_type": "execute_result"
    }
   ],
   "source": [
    "df.shape[0]"
   ]
  },
  {
   "cell_type": "markdown",
   "id": "65d4817f-d2c9-44c2-8af9-193c74c68a83",
   "metadata": {},
   "source": [
    "## 🎥 Step 2: Movies vs. TV Shows Distribution\n",
    "\n",
    "Let’s analyze the distribution of content type to see how many Movies and TV Shows are available on Netflix.\n"
   ]
  },
  {
   "cell_type": "markdown",
   "id": "349915a7-0d0a-46c6-b673-6126be437b43",
   "metadata": {},
   "source": [
    "How many total titles are available on Netflix?"
   ]
  },
  {
   "cell_type": "code",
   "execution_count": 421,
   "id": "5419577c-07b7-45ed-90c1-1e9f1c3a0373",
   "metadata": {},
   "outputs": [
    {
     "data": {
      "text/plain": [
       "8807"
      ]
     },
     "execution_count": 421,
     "metadata": {},
     "output_type": "execute_result"
    }
   ],
   "source": [
    "df[\"title\"].nunique()\n"
   ]
  },
  {
   "cell_type": "markdown",
   "id": "c04c5d87-952c-4e8a-8a62-59161a878a96",
   "metadata": {},
   "source": [
    "> 🔍 **Insight**: Netflix has a total of `8807` unique titles (Movies + TV Shows combined).  \n",
    "This shows the vast content library available globally. The diversity in titles caters to a wide range of audiences.\n"
   ]
  },
  {
   "cell_type": "markdown",
   "id": "e5ead634-08a4-4136-828e-36da59377047",
   "metadata": {},
   "source": [
    "How many are Movies vs. TV Shows "
   ]
  },
  {
   "cell_type": "code",
   "execution_count": 422,
   "id": "eafa731b-0bf7-4a32-acdd-a348beeef610",
   "metadata": {},
   "outputs": [
    {
     "data": {
      "text/plain": [
       "type\n",
       "Movie      6131\n",
       "TV Show    2676\n",
       "Name: count, dtype: int64"
      ]
     },
     "execution_count": 422,
     "metadata": {},
     "output_type": "execute_result"
    }
   ],
   "source": [
    "df.type.value_counts()"
   ]
  },
  {
   "cell_type": "markdown",
   "id": "fb3571ba-f014-4647-93bd-9df084f09da8",
   "metadata": {},
   "source": [
    ">🎥 **Insight**: The majority of Netflix content consists of **Movies**, outnumbering TV Shows significantly.  \n",
    "This suggests Netflix focuses more on standalone, shorter content pieces rather than episodic shows — possibly due to production costs or licensing.\n"
   ]
  },
  {
   "cell_type": "markdown",
   "id": "899ade75-1224-43c5-ba56-e2eab863e41f",
   "metadata": {},
   "source": [
    "## 🎭 Step 3: Unique Genres on Netflix\n",
    "\n",
    "We analyze the `listed_in` column to extract and count all the unique genres.  \n",
    "Since this column contains comma-separated values, we split and explode it to get a clearer picture.\n"
   ]
  },
  {
   "cell_type": "markdown",
   "id": "072797e0-52f4-4ab4-8a10-12f5e1fda49e",
   "metadata": {},
   "source": [
    "What is the total number of unique genres"
   ]
  },
  {
   "cell_type": "code",
   "execution_count": 423,
   "id": "82408a0e-8337-40c4-bdc4-d6b52163d78b",
   "metadata": {},
   "outputs": [
    {
     "data": {
      "text/plain": [
       "73"
      ]
     },
     "execution_count": 423,
     "metadata": {},
     "output_type": "execute_result"
    }
   ],
   "source": [
    "df[\"genres\"]=df[\"listed_in\"].str.split(',')\n",
    "unique_genres=df.explode(\"genres\")\n",
    "unique_genres[\"genres\"].nunique()"
   ]
  },
  {
   "cell_type": "markdown",
   "id": "a467437e-c647-4fbd-a839-539ac90998d9",
   "metadata": {},
   "source": [
    "> 🎭 **Insight**: Netflix content spans over `73` unique genres.  \n",
    "This wide range of genres reflects Netflix’s attempt to localize and personalize content across countries and age groups.\n"
   ]
  },
  {
   "cell_type": "markdown",
   "id": "ca82fcdc-78c1-4248-bc46-10e839443da5",
   "metadata": {},
   "source": [
    "## 📆 Step 4: Titles Added Over the Years\n",
    "\n",
    "Netflix continuously adds new content every year.  \n",
    "Here, we convert the `date_added` column to datetime format and extract the year to analyze annual trends.\n"
   ]
  },
  {
   "cell_type": "code",
   "execution_count": 424,
   "id": "38ba57af-49f3-4082-8b16-b79bf70200e7",
   "metadata": {},
   "outputs": [],
   "source": [
    "df[\"date_added\"]=pd.to_datetime(df[\"date_added\"],format=\"mixed\")"
   ]
  },
  {
   "cell_type": "code",
   "execution_count": 425,
   "id": "9250a31d-a6a3-4e1c-a93e-bb4e88057723",
   "metadata": {},
   "outputs": [
    {
     "data": {
      "text/plain": [
       "year_added\n",
       "2008.0       2\n",
       "2009.0       2\n",
       "2010.0       1\n",
       "2011.0      13\n",
       "2012.0       3\n",
       "2013.0      11\n",
       "2014.0      24\n",
       "2015.0      82\n",
       "2016.0     429\n",
       "2017.0    1188\n",
       "2018.0    1649\n",
       "2019.0    2016\n",
       "2020.0    1879\n",
       "2021.0    1498\n",
       "Name: count, dtype: int64"
      ]
     },
     "execution_count": 425,
     "metadata": {},
     "output_type": "execute_result"
    }
   ],
   "source": [
    "df[\"year_added\"]=df[\"date_added\"].dt.year\n",
    "df[\"year_added\"].value_counts().sort_index()"
   ]
  },
  {
   "cell_type": "markdown",
   "id": "8476d849-4fdf-403e-a8db-c20b50b4cc5c",
   "metadata": {},
   "source": [
    "In which year was the highest number of titles added?"
   ]
  },
  {
   "cell_type": "code",
   "execution_count": 426,
   "id": "d8288ded-7aee-4fbd-8354-8405764da199",
   "metadata": {},
   "outputs": [
    {
     "data": {
      "text/plain": [
       "2019.0"
      ]
     },
     "execution_count": 426,
     "metadata": {},
     "output_type": "execute_result"
    }
   ],
   "source": [
    "df[\"year_added\"].value_counts().idxmax()"
   ]
  },
  {
   "cell_type": "markdown",
   "id": "2dabb063-a814-4d2a-ab4c-d9324674a7ee",
   "metadata": {},
   "source": [
    "## 📈 Step 5: Trend of Content Release by Year\n",
    "\n",
    "Now, we analyze the `release_year` to understand how Netflix content has evolved over time.\n",
    "A line plot is used to visualize the trend.\n"
   ]
  },
  {
   "cell_type": "code",
   "execution_count": 471,
   "id": "26119d1c-d31b-4cc0-9e5b-9de73f006398",
   "metadata": {},
   "outputs": [
    {
     "data": {
      "image/png": "[encoded data removed]",
      "text/plain": [
       "<Figure size 1400x600 with 1 Axes>"
      ]
     },
     "metadata": {},
     "output_type": "display_data"
    }
   ],
   "source": [
    "release_trend = df[\"release_year\"].value_counts().sort_index()\n",
    "release_trend_df = release_trend.reset_index()\n",
    "release_trend_df.columns = [\"Release Year\", \"Number of Titles\"]\n",
    "\n",
    "sns.set(style=\"whitegrid\")\n",
    "\n",
    "# Step 3: Create the line plot\n",
    "plt.figure(figsize=(14, 6))\n",
    "sns.lineplot(data=release_trend_df, x=\"Release Year\", y=\"Number of Titles\", marker='o', color='blue')\n",
    "\n",
    "# Step 4: Customize the plot\n",
    "plt.title(\"📈 Content Release Trend Over Years\", fontsize=16)\n",
    "plt.xlabel(\"Release Year\", fontsize=12)\n",
    "plt.ylabel(\"Number of Titles\", fontsize=12)\n",
    "plt.xticks(rotation=45)\n",
    "plt.tight_layout()\n",
    "plt.show()"
   ]
  },
  {
   "cell_type": "markdown",
   "id": "9a3ac110-d33c-4fc5-b756-705be7b43578",
   "metadata": {},
   "source": [
    "> 📅 **Insight**: Netflix saw a sharp increase in content addition around **2018–2020**, with a peak in `2019`.  \n",
    "This aligns with the period of aggressive content expansion, particularly original series and regional content for global markets.\n"
   ]
  },
  {
   "cell_type": "markdown",
   "id": "57045ac1-b932-48a5-a898-fd374a1209e8",
   "metadata": {},
   "source": [
    "## 🗓️ Step 6: Monthly Addition Trend\n",
    "\n",
    "We extract the month from `date_added` and analyze which months see the most new content being added to Netflix.\n"
   ]
  },
  {
   "cell_type": "code",
   "execution_count": 428,
   "id": "15ca1c28-05b4-4612-9952-ba9dd27ece04",
   "metadata": {},
   "outputs": [
    {
     "data": {
      "text/plain": [
       "7.0"
      ]
     },
     "execution_count": 428,
     "metadata": {},
     "output_type": "execute_result"
    }
   ],
   "source": [
    "df[\"month_added\"]=df[\"date_added\"].dt.month\n",
    "df[\"month_added\"].value_counts().idxmax()"
   ]
  },
  {
   "cell_type": "markdown",
   "id": "66eed64a-946f-45aa-972d-f761e9d46071",
   "metadata": {},
   "source": [
    "## 🌍 Step 7: Country-Wise Content Insights\n",
    "\n",
    "We explore which countries contribute the most content to Netflix.\n",
    "For better analysis, we handle multi-country rows using `.explode()`.\n"
   ]
  },
  {
   "cell_type": "markdown",
   "id": "b1f9a79b-c99c-4ffb-bc48-052995128168",
   "metadata": {},
   "source": [
    "> Which are the top 10 countries with the most content on Netflix?"
   ]
  },
  {
   "cell_type": "code",
   "execution_count": 491,
   "id": "4c11b1e5-036e-48f5-8e6f-3dd68d18cd75",
   "metadata": {},
   "outputs": [
    {
     "data": {
      "image/png": "[encoded data removed]",
      "text/plain": [
       "<Figure size 1800x800 with 1 Axes>"
      ]
     },
     "metadata": {},
     "output_type": "display_data"
    }
   ],
   "source": [
    "# df[\"country\"]=df[\"country\"].fillna(\"Unknown\")\n",
    "top_contries=df.copy()\n",
    "top_contries[\"country\"]=top_contries[\"country\"].str.split(',')\n",
    "exploded_df=df.explode('country')\n",
    "p=exploded_df[\"country\"].value_counts().head(10).reset_index()\n",
    "plt.figure(figsize=(18,8))\n",
    "barplot = sns.barplot(\n",
    "    data=p,\n",
    "    x=\"country\",\n",
    "    y=\"count\",\n",
    "    palette=\"Blues_r\"  # Reversed Reds for similar color effect\n",
    ")\n",
    "\n",
    "plt.show()\n"
   ]
  },
  {
   "cell_type": "markdown",
   "id": "802d6b44-0408-42e4-b29a-5cf8593437be",
   "metadata": {},
   "source": [
    "> 🌍 **Insight**: The **USA** leads in Netflix content production, followed by **India** and the **UK**.  \n",
    "These countries are major entertainment hubs, contributing both original and licensed content to the platform.\n"
   ]
  },
  {
   "cell_type": "markdown",
   "id": "4faed07c-d49a-4daf-bffc-ac5bca983225",
   "metadata": {},
   "source": [
    "> #### What type of content (Movies or TV Shows) is most common in India"
   ]
  },
  {
   "cell_type": "code",
   "execution_count": 430,
   "id": "ba5551bf-3e83-4d9c-b39b-d3b5ba9f6ab8",
   "metadata": {},
   "outputs": [
    {
     "data": {
      "text/html": [
       "<div>\n",
       "<style scoped>\n",
       "    .dataframe tbody tr th:only-of-type {\n",
       "        vertical-align: middle;\n",
       "    }\n",
       "\n",
       "    .dataframe tbody tr th {\n",
       "        vertical-align: top;\n",
       "    }\n",
       "\n",
       "    .dataframe thead th {\n",
       "        text-align: right;\n",
       "    }\n",
       "</style>\n",
       "<table border=\"1\" class=\"dataframe\">\n",
       "  <thead>\n",
       "    <tr style=\"text-align: right;\">\n",
       "      <th></th>\n",
       "      <th>country</th>\n",
       "      <th>type</th>\n",
       "      <th>count</th>\n",
       "    </tr>\n",
       "  </thead>\n",
       "  <tbody>\n",
       "    <tr>\n",
       "      <th>284</th>\n",
       "      <td>India</td>\n",
       "      <td>Movie</td>\n",
       "      <td>893</td>\n",
       "    </tr>\n",
       "    <tr>\n",
       "      <th>285</th>\n",
       "      <td>India</td>\n",
       "      <td>TV Show</td>\n",
       "      <td>79</td>\n",
       "    </tr>\n",
       "  </tbody>\n",
       "</table>\n",
       "</div>"
      ],
      "text/plain": [
       "    country     type  count\n",
       "284   India    Movie    893\n",
       "285   India  TV Show     79"
      ]
     },
     "execution_count": 430,
     "metadata": {},
     "output_type": "execute_result"
    }
   ],
   "source": [
    "content=exploded_df.groupby([\"country\",\"type\"]).size().reset_index(name=\"count\")\n",
    "content[content[\"country\"]==\"India\"]"
   ]
  },
  {
   "cell_type": "markdown",
   "id": "4a9be9ba-03ee-4978-bf70-f6b13c23821a",
   "metadata": {},
   "source": [
    "> #### Which countries have produced the most TV Shows"
   ]
  },
  {
   "cell_type": "code",
   "execution_count": 431,
   "id": "b9797dac-bcdf-40de-87ae-4b0c441473f2",
   "metadata": {},
   "outputs": [
    {
     "data": {
      "text/plain": [
       "country\n",
       "United States    847\n",
       "Name: count, dtype: int64"
      ]
     },
     "execution_count": 431,
     "metadata": {},
     "output_type": "execute_result"
    }
   ],
   "source": [
    "tv_show=df[df[\"type\"]==\"TV Show\"]\n",
    "tv_show=tv_show.dropna(subset=[\"country\"])\n",
    "tv_show[\"country\"]=tv_show[\"country\"].str.split(',')\n",
    "tv_show=tv_show.explode(\"country\")\n",
    "top_country=tv_show['country'].value_counts()\n",
    "top_country.head(1)"
   ]
  },
  {
   "cell_type": "markdown",
   "id": "92266421-3a60-4be4-b6d5-14ced38c576a",
   "metadata": {},
   "source": [
    "## 🎭 Step 8: Most Common Genres by Type and Country\n",
    "\n",
    "We analyze genre trends by filtering for content types (Movie vs TV Show) and countries (like India).\n",
    "This gives a more detailed view of content preferences across geographies and formats.\n"
   ]
  },
  {
   "cell_type": "code",
   "execution_count": 462,
   "id": "3ad7fd06-2d46-42d1-9baa-29b8620f0cf2",
   "metadata": {},
   "outputs": [
    {
     "data": {
      "text/html": [
       "<div>\n",
       "<style scoped>\n",
       "    .dataframe tbody tr th:only-of-type {\n",
       "        vertical-align: middle;\n",
       "    }\n",
       "\n",
       "    .dataframe tbody tr th {\n",
       "        vertical-align: top;\n",
       "    }\n",
       "\n",
       "    .dataframe thead th {\n",
       "        text-align: right;\n",
       "    }\n",
       "</style>\n",
       "<table border=\"1\" class=\"dataframe\">\n",
       "  <thead>\n",
       "    <tr style=\"text-align: right;\">\n",
       "      <th></th>\n",
       "      <th>genres</th>\n",
       "      <th>count</th>\n",
       "    </tr>\n",
       "  </thead>\n",
       "  <tbody>\n",
       "    <tr>\n",
       "      <th>0</th>\n",
       "      <td>International Movies</td>\n",
       "      <td>2624</td>\n",
       "    </tr>\n",
       "    <tr>\n",
       "      <th>1</th>\n",
       "      <td>Dramas</td>\n",
       "      <td>1600</td>\n",
       "    </tr>\n",
       "    <tr>\n",
       "      <th>2</th>\n",
       "      <td>Comedies</td>\n",
       "      <td>1210</td>\n",
       "    </tr>\n",
       "    <tr>\n",
       "      <th>3</th>\n",
       "      <td>Action &amp; Adventure</td>\n",
       "      <td>859</td>\n",
       "    </tr>\n",
       "    <tr>\n",
       "      <th>4</th>\n",
       "      <td>Documentaries</td>\n",
       "      <td>829</td>\n",
       "    </tr>\n",
       "  </tbody>\n",
       "</table>\n",
       "</div>"
      ],
      "text/plain": [
       "                  genres  count\n",
       "0   International Movies   2624\n",
       "1                 Dramas   1600\n",
       "2               Comedies   1210\n",
       "3     Action & Adventure    859\n",
       "4          Documentaries    829"
      ]
     },
     "execution_count": 462,
     "metadata": {},
     "output_type": "execute_result"
    }
   ],
   "source": [
    "common_genres=df.explode(\"genres\")\n",
    "common_genres[\"genres\"].value_counts().sort_values(ascending=False).head().reset_index()\n"
   ]
  },
  {
   "cell_type": "markdown",
   "id": "5b3a7d37-a0ac-4e6f-9d70-4b4435d68d94",
   "metadata": {},
   "source": [
    "## 🔠 Step 9: Distribution of Content Ratings\n",
    "\n",
    "Let’s analyze the most common content ratings (like TV-MA, PG, etc.) using a pie chart to visualize their distribution.\n"
   ]
  },
  {
   "cell_type": "code",
   "execution_count": 433,
   "id": "cd24d7ae-7e3a-48b2-b981-3ec6a1a99bb8",
   "metadata": {},
   "outputs": [
    {
     "data": {
      "text/plain": [
       "'TV-MA'"
      ]
     },
     "execution_count": 433,
     "metadata": {},
     "output_type": "execute_result"
    }
   ],
   "source": [
    "df[\"rating\"].value_counts().sort_values(ascending=False).idxmax()"
   ]
  },
  {
   "cell_type": "markdown",
   "id": "a1ba01cb-aad3-477e-8aeb-ea7527d32813",
   "metadata": {},
   "source": [
    ">#### What is the average duration of a Movie on Netflix?"
   ]
  },
  {
   "cell_type": "code",
   "execution_count": 434,
   "id": "230e877f-dd56-4a35-a4bf-cb5754f66588",
   "metadata": {},
   "outputs": [
    {
     "data": {
      "text/plain": [
       "99.52846191485891"
      ]
     },
     "execution_count": 434,
     "metadata": {},
     "output_type": "execute_result"
    }
   ],
   "source": [
    "movies=df[df[\"type\"]==\"Movie\"].copy()\n",
    "movies[\"minutes\"]=movies[\"duration\"].str.extract(r'(\\d+)').astype(float)\n",
    "movies[\"minutes\"].mean()"
   ]
  },
  {
   "cell_type": "markdown",
   "id": "7d8f382f-9e40-4ea0-be6a-5bc4740419f2",
   "metadata": {},
   "source": [
    "> ⏱️ **Insight**: The average duration of a Netflix movie is **~99 minutes**, which is consistent with traditional film lengths.  \n",
    "This suggests that Netflix follows standard runtime expectations for feature films.\n"
   ]
  },
  {
   "cell_type": "markdown",
   "id": "0f07f031-d184-4ce1-b06a-27dfa45f591e",
   "metadata": {},
   "source": [
    "## 🎬 Step 10: Top 10 Directors on Netflix\n",
    "\n",
    "This section lists the directors with the most content available on Netflix.  \n",
    "We clean and split the `director` column to account for multiple directors per entry.\n"
   ]
  },
  {
   "cell_type": "code",
   "execution_count": 449,
   "id": "c53baf44-3272-4066-840f-a9add819968c",
   "metadata": {},
   "outputs": [],
   "source": [
    "df=pd.read_csv(\"netflix_titles.csv\")\n",
    "df['director']=df['director'].str.split(',')\n",
    "directors=df.explode('director')"
   ]
  },
  {
   "cell_type": "code",
   "execution_count": 465,
   "id": "e13d4181-c479-4e0e-9416-5bd525f8e3ce",
   "metadata": {},
   "outputs": [
    {
     "data": {
      "text/plain": [
       "director\n",
       "Rajiv Chilaka          22\n",
       "Raúl Campos            18\n",
       " Jan Suter             18\n",
       "Marcus Raboy           16\n",
       "Suhas Kadav            16\n",
       "Jay Karas              15\n",
       "Cathy Garcia-Molina    13\n",
       "Martin Scorsese        12\n",
       "Jay Chapman            12\n",
       "Youssef Chahine        12\n",
       "Name: count, dtype: int64"
      ]
     },
     "execution_count": 465,
     "metadata": {},
     "output_type": "execute_result"
    }
   ],
   "source": [
    "directors['director'].value_counts().sort_values(ascending=False).head(10)"
   ]
  },
  {
   "cell_type": "markdown",
   "id": "251c48fb-03aa-41f4-bf3f-b5daa566ab30",
   "metadata": {},
   "source": [
    "> 🎬 **Insight**: The top directors on Netflix have multiple releases, often in documentary or international cinema genres.  \n",
    "Netflix likely maintains long-term content partnerships with high-performing or regionally popular directors.\n"
   ]
  },
  {
   "cell_type": "markdown",
   "id": "f156c9f5-f17d-4e18-b70b-8f12bf011d31",
   "metadata": {},
   "source": [
    "## Step 11:Plot Rating Distribution\n",
    "Create a pie chart of content ratings distribution (TV-MA, PG, etc.)"
   ]
  },
  {
   "cell_type": "code",
   "execution_count": 480,
   "id": "0e94abe0-953e-4c2e-a22b-40dfca154e56",
   "metadata": {},
   "outputs": [
    {
     "data": {
      "image/png": "[encoded data removed]",
      "text/plain": [
       "<Figure size 1000x500 with 1 Axes>"
      ]
     },
     "metadata": {},
     "output_type": "display_data"
    }
   ],
   "source": [
    "rating_counts=df[\"rating\"].value_counts().reset_index(name=\"count\")\n",
    "rating_counts.columns = [\"Rating\", \"Count\"]\n",
    "plt.figure(figsize=(10, 5))\n",
    "colors = plt.cm.Pastel1.colors  # Optional: use a clean color palette\n",
    "plt.pie(\n",
    "    rating_counts[\"Count\"],\n",
    "    labels=rating_counts[\"Rating\"],\n",
    "    autopct='%1.1f%%',\n",
    "    startangle=140,\n",
    "    # colors=colors,\n",
    "    textprops={'fontsize': 12}\n",
    ")\n",
    "\n",
    "# Step 3: Add title and save\n",
    "plt.title(\"Content Ratings Distribution\", fontsize=16)\n",
    "plt.tight_layout()\n",
    "# plt.savefig(\"content_rating_piechart.png\", dpi=300, bbox_inches='tight')\n",
    "plt.show()"
   ]
  },
  {
   "cell_type": "markdown",
   "id": "d87205f7-f63f-4c25-a738-b40272dce318",
   "metadata": {},
   "source": [
    "> 🔠 **Insight**: The most common rating is **TV-MA**, indicating a strong focus on mature content.  \n",
    "This shows Netflix’s adult-first content strategy, with limited offerings for younger audiences (like TV-Y or G-rated).\n"
   ]
  },
  {
   "cell_type": "markdown",
   "id": "86c8efb9-4dd5-491c-b97f-1a377ac134a2",
   "metadata": {},
   "source": [
    "## 🎭 Genre Popularity by Content Type\n",
    "\n",
    "We group genres by type (Movie or TV Show) and find top genres for each."
   ]
  },
  {
   "cell_type": "code",
   "execution_count": 451,
   "id": "7b976601-3615-4c8f-a238-8e467c06ccda",
   "metadata": {},
   "outputs": [],
   "source": [
    "df[\"genres\"]=df[\"listed_in\"].str.split(',')\n",
    "exp_genres=df.explode(\"genres\")\n",
    "explod_country=exp_genres.explode('country')\n",
    "genre_by_country = explod_country.groupby(['country', 'genres']).size().reset_index(name='count')"
   ]
  },
  {
   "cell_type": "code",
   "execution_count": 441,
   "id": "a07e2f95-3148-4121-8a88-11d4dbe2b9df",
   "metadata": {},
   "outputs": [
    {
     "data": {
      "text/html": [
       "<div>\n",
       "<style scoped>\n",
       "    .dataframe tbody tr th:only-of-type {\n",
       "        vertical-align: middle;\n",
       "    }\n",
       "\n",
       "    .dataframe tbody tr th {\n",
       "        vertical-align: top;\n",
       "    }\n",
       "\n",
       "    .dataframe thead th {\n",
       "        text-align: right;\n",
       "    }\n",
       "</style>\n",
       "<table border=\"1\" class=\"dataframe\">\n",
       "  <thead>\n",
       "    <tr style=\"text-align: right;\">\n",
       "      <th></th>\n",
       "      <th>country</th>\n",
       "      <th>genres</th>\n",
       "      <th>count</th>\n",
       "    </tr>\n",
       "  </thead>\n",
       "  <tbody>\n",
       "    <tr>\n",
       "      <th>1081</th>\n",
       "      <td>India</td>\n",
       "      <td>International Movies</td>\n",
       "      <td>779</td>\n",
       "    </tr>\n",
       "    <tr>\n",
       "      <th>1109</th>\n",
       "      <td>India</td>\n",
       "      <td>Dramas</td>\n",
       "      <td>384</td>\n",
       "    </tr>\n",
       "    <tr>\n",
       "      <th>1104</th>\n",
       "      <td>India</td>\n",
       "      <td>Comedies</td>\n",
       "      <td>262</td>\n",
       "    </tr>\n",
       "    <tr>\n",
       "      <th>1077</th>\n",
       "      <td>India</td>\n",
       "      <td>Dramas</td>\n",
       "      <td>236</td>\n",
       "    </tr>\n",
       "    <tr>\n",
       "      <th>1080</th>\n",
       "      <td>India</td>\n",
       "      <td>Independent Movies</td>\n",
       "      <td>149</td>\n",
       "    </tr>\n",
       "  </tbody>\n",
       "</table>\n",
       "</div>"
      ],
      "text/plain": [
       "     country                 genres  count\n",
       "1081   India   International Movies    779\n",
       "1109   India                 Dramas    384\n",
       "1104   India               Comedies    262\n",
       "1077   India                 Dramas    236\n",
       "1080   India     Independent Movies    149"
      ]
     },
     "execution_count": 441,
     "metadata": {},
     "output_type": "execute_result"
    }
   ],
   "source": [
    "genre_by_country[genre_by_country[\"country\"]=='India'].sort_values('count',ascending=False).head()"
   ]
  },
  {
   "cell_type": "markdown",
   "id": "60b6aad1-0c3f-4190-b96f-d5ca424061ed",
   "metadata": {},
   "source": [
    "#### most common genres by type"
   ]
  },
  {
   "cell_type": "code",
   "execution_count": 452,
   "id": "f853355e-1887-4efe-b2d6-399db57d3fd3",
   "metadata": {},
   "outputs": [],
   "source": [
    "genres_by_type=exp_genres.groupby([\"genres\",\"type\"]).size().reset_index(name=\"count\")"
   ]
  },
  {
   "cell_type": "code",
   "execution_count": 453,
   "id": "da0287ef-86f5-4c0b-9660-a91a86179b0c",
   "metadata": {},
   "outputs": [
    {
     "data": {
      "text/html": [
       "<div>\n",
       "<style scoped>\n",
       "    .dataframe tbody tr th:only-of-type {\n",
       "        vertical-align: middle;\n",
       "    }\n",
       "\n",
       "    .dataframe tbody tr th {\n",
       "        vertical-align: top;\n",
       "    }\n",
       "\n",
       "    .dataframe thead th {\n",
       "        text-align: right;\n",
       "    }\n",
       "</style>\n",
       "<table border=\"1\" class=\"dataframe\">\n",
       "  <thead>\n",
       "    <tr style=\"text-align: right;\">\n",
       "      <th></th>\n",
       "      <th>genres</th>\n",
       "      <th>type</th>\n",
       "      <th>count</th>\n",
       "    </tr>\n",
       "  </thead>\n",
       "  <tbody>\n",
       "    <tr>\n",
       "      <th>13</th>\n",
       "      <td>International Movies</td>\n",
       "      <td>Movie</td>\n",
       "      <td>2624</td>\n",
       "    </tr>\n",
       "    <tr>\n",
       "      <th>49</th>\n",
       "      <td>Dramas</td>\n",
       "      <td>Movie</td>\n",
       "      <td>1600</td>\n",
       "    </tr>\n",
       "    <tr>\n",
       "      <th>44</th>\n",
       "      <td>Comedies</td>\n",
       "      <td>Movie</td>\n",
       "      <td>1210</td>\n",
       "    </tr>\n",
       "    <tr>\n",
       "      <th>37</th>\n",
       "      <td>Action &amp; Adventure</td>\n",
       "      <td>Movie</td>\n",
       "      <td>859</td>\n",
       "    </tr>\n",
       "    <tr>\n",
       "      <th>47</th>\n",
       "      <td>Documentaries</td>\n",
       "      <td>Movie</td>\n",
       "      <td>829</td>\n",
       "    </tr>\n",
       "  </tbody>\n",
       "</table>\n",
       "</div>"
      ],
      "text/plain": [
       "                   genres   type  count\n",
       "13   International Movies  Movie   2624\n",
       "49                 Dramas  Movie   1600\n",
       "44               Comedies  Movie   1210\n",
       "37     Action & Adventure  Movie    859\n",
       "47          Documentaries  Movie    829"
      ]
     },
     "execution_count": 453,
     "metadata": {},
     "output_type": "execute_result"
    }
   ],
   "source": [
    "genres_by_type[genres_by_type['type']==\"Movie\"].sort_values('count',ascending=False).head()"
   ]
  },
  {
   "cell_type": "code",
   "execution_count": 454,
   "id": "b2966a38-f546-4e1e-88de-2242f5dd1268",
   "metadata": {},
   "outputs": [
    {
     "data": {
      "text/html": [
       "<div>\n",
       "<style scoped>\n",
       "    .dataframe tbody tr th:only-of-type {\n",
       "        vertical-align: middle;\n",
       "    }\n",
       "\n",
       "    .dataframe tbody tr th {\n",
       "        vertical-align: top;\n",
       "    }\n",
       "\n",
       "    .dataframe thead th {\n",
       "        text-align: right;\n",
       "    }\n",
       "</style>\n",
       "<table border=\"1\" class=\"dataframe\">\n",
       "  <thead>\n",
       "    <tr style=\"text-align: right;\">\n",
       "      <th></th>\n",
       "      <th>genres</th>\n",
       "      <th>type</th>\n",
       "      <th>count</th>\n",
       "    </tr>\n",
       "  </thead>\n",
       "  <tbody>\n",
       "    <tr>\n",
       "      <th>53</th>\n",
       "      <td>International TV Shows</td>\n",
       "      <td>TV Show</td>\n",
       "      <td>774</td>\n",
       "    </tr>\n",
       "    <tr>\n",
       "      <th>30</th>\n",
       "      <td>TV Dramas</td>\n",
       "      <td>TV Show</td>\n",
       "      <td>696</td>\n",
       "    </tr>\n",
       "    <tr>\n",
       "      <th>14</th>\n",
       "      <td>International TV Shows</td>\n",
       "      <td>TV Show</td>\n",
       "      <td>577</td>\n",
       "    </tr>\n",
       "    <tr>\n",
       "      <th>29</th>\n",
       "      <td>TV Comedies</td>\n",
       "      <td>TV Show</td>\n",
       "      <td>461</td>\n",
       "    </tr>\n",
       "    <tr>\n",
       "      <th>45</th>\n",
       "      <td>Crime TV Shows</td>\n",
       "      <td>TV Show</td>\n",
       "      <td>399</td>\n",
       "    </tr>\n",
       "  </tbody>\n",
       "</table>\n",
       "</div>"
      ],
      "text/plain": [
       "                     genres     type  count\n",
       "53   International TV Shows  TV Show    774\n",
       "30                TV Dramas  TV Show    696\n",
       "14   International TV Shows  TV Show    577\n",
       "29              TV Comedies  TV Show    461\n",
       "45           Crime TV Shows  TV Show    399"
      ]
     },
     "execution_count": 454,
     "metadata": {},
     "output_type": "execute_result"
    }
   ],
   "source": [
    "genres_by_type[genres_by_type['type']==\"TV Show\"].sort_values('count',ascending=False).head()"
   ]
  },
  {
   "cell_type": "markdown",
   "id": "d6794f66-fd3b-4251-8751-9289caac0fa2",
   "metadata": {},
   "source": [
    "> 🎭 **Insight**:\n",
    "- **Movies** are dominated by genres like *Dramas*, *International Movies*, and *Comedies*.\n",
    "- **TV Shows** are led by *International TV Shows*, *Dramas*, and *Kids' TV*.\n",
    "\n",
    "This shows that while both types favor dramas, Netflix's TV catalog leans toward family and international storytelling.\n"
   ]
  },
  {
   "cell_type": "markdown",
   "id": "24ffa987-646d-4458-9972-c68fe8799c99",
   "metadata": {},
   "source": [
    "### Overall genres plot\n",
    "Plotting bar Graph for Overall Genres Count on Netflix"
   ]
  },
  {
   "cell_type": "code",
   "execution_count": 476,
   "id": "cb9cc99a-7cda-4b48-988a-60e8adff9593",
   "metadata": {},
   "outputs": [
    {
     "data": {
      "image/png": "[encoded data removed]",
      "text/plain": [
       "<Figure size 1000x400 with 1 Axes>"
      ]
     },
     "metadata": {},
     "output_type": "display_data"
    }
   ],
   "source": [
    "overall = exp_genres[\"genres\"].value_counts().head(10).reset_index()\n",
    "overall.columns = [\"Genres\", \"Count\"]\n",
    "\n",
    "# Step 2: Set up the plot\n",
    "plt.figure(figsize=(10, 4))\n",
    "sns.set_theme(style=\"whitegrid\")\n",
    "\n",
    "# Step 3: Create horizontal barplot\n",
    "barplot = sns.barplot(\n",
    "    data=overall,\n",
    "    y=\"Genres\",\n",
    "    x=\"Count\",\n",
    "    palette=\"Reds_r\"  # Reversed Reds for similar color effect\n",
    ")\n",
    "\n",
    "# Step 4: Customize plot\n",
    "plt.title(\"Top 10 Genres on Netflix\", fontsize=16)\n",
    "plt.xlabel(\"Count\")\n",
    "plt.ylabel(\"Genres\")\n",
    "\n",
    "# Step 5: Save the plot as PNG (will display on GitHub)\n",
    "plt.tight_layout()\n",
    "\n",
    "plt.show()"
   ]
  },
  {
   "cell_type": "markdown",
   "id": "49392031-9136-4783-b7cc-851ae8aa78e1",
   "metadata": {},
   "source": [
    "# ✅ Conclusion\n",
    "\n",
    "This project provided valuable insights into Netflix’s content strategy using real-world data.\n",
    "\n",
    "### Key Takeaways:\n",
    "- Movies dominate the Netflix catalog\n",
    "- Dramatic and international content leads genre popularity\n",
    "- Content growth surged between 2016–2020\n",
    "- Majority of content targets mature audiences\n",
    "- India and the US are key content contributors\n",
    "\n",
    "\n",
    "📂 Check out the full notebook and visualizations in this repo. Feedback and suggestions are welcome! 🚀\n"
   ]
  },
  {
   "cell_type": "code",
   "execution_count": null,
   "id": "02ad7e24-a689-4a45-9b76-77898e0fb8cf",
   "metadata": {},
   "outputs": [],
   "source": []
  },
  {
   "cell_type": "code",
   "execution_count": null,
   "id": "48da6311-30c2-4ba6-a49d-6bf3dab61cd6",
   "metadata": {},
   "outputs": [],
   "source": []
  }
 ],
 "metadata": {
  "kernelspec": {
   "display_name": "Python [conda env:base] *",
   "language": "python",
   "name": "conda-base-py"
  },
  "language_info": {
   "codemirror_mode": {
    "name": "ipython",
    "version": 3
   },
   "file_extension": ".py",
   "mimetype": "text/x-python",
   "name": "python",
   "nbconvert_exporter": "python",
   "pygments_lexer": "ipython3",
   "version": "3.12.7"
  }
 },
 "nbformat": 4,
 "nbformat_minor": 5
}
